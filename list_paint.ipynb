{
 "metadata": {
  "language_info": {
   "codemirror_mode": {
    "name": "ipython",
    "version": 3
   },
   "file_extension": ".py",
   "mimetype": "text/x-python",
   "name": "python",
   "nbconvert_exporter": "python",
   "pygments_lexer": "ipython3",
   "version": "3.9.4-final"
  },
  "orig_nbformat": 2,
  "kernelspec": {
   "name": "python3",
   "display_name": "Python 3",
   "language": "python"
  }
 },
 "nbformat": 4,
 "nbformat_minor": 2,
 "cells": [
  {
   "source": [
    "* 색칠하기\n",
    "\n",
    "그림과 같이 인덱스가 있는 10x10 격자에 빨간색과 파란색을 칠하려고 한다.   \n",
    "N개의 영역에 대해 왼쪽 위와 오른쪽 아래 모서리 인덱스, 칠할 색상이 주어질 때, 칠이 끝난 후 색이 겹쳐 보라색이 된 칸 수를 구하는 프로그램을 만드시오.   \n",
    "주어진 정보에서 같은 색인 영역은 겹치지 않는다.   \n",
    "   \n",
    "\\[예시\\]   \n",
    "   \n",
    "<img src=\"./list_paint.png\" width=\"40%\" height=\"30%\"></img>   \n",
    "   \n",
    "\\[입력\\]   \n",
    "   \n",
    "첫 줄에 테스트 케이스 개수 T가 주어진다.   ( 1 ≤ T ≤ 50 )   \n",
    "다음 줄부터 테스트케이스의 첫 줄에 칠할 영역의 개수 N이 주어진다. ( 2 ≤ N ≤ 30 )   \n",
    "다음 줄에 왼쪽 위 모서리 인덱스 r1, c1, 오른쪽 아래 모서리 r2, c2와 색상 정보 color가 주어진다. ( 0 ≤ r1, c1, r2, c2 ≤ 9 )   \n",
    "color = 1 (빨강), color = 2 (파랑)   \n",
    "   \n",
    "\\[출력\\]   \n",
    "   \n",
    "각 줄마다 \"#T\" (T는 테스트 케이스 번호)를 출력한 뒤, 답을 출력한다.   \n",
    "   \n",
    "\\[풀이\\]\n",
    "   \n",
    "* 빈 캠퍼스를 만든다.\n",
    "* 조건에 따라 캠퍼스에 색을 칠한다(더한다).\n",
    "* color1과 2의 색상값을 더한 값을 캠퍼스에서 찾는다. 찾은 경우 count에 1을 더해준다."
   ],
   "cell_type": "markdown",
   "metadata": {}
  },
  {
   "cell_type": "code",
   "execution_count": 14,
   "metadata": {},
   "outputs": [
    {
     "output_type": "stream",
     "name": "stdout",
     "text": [
      "#1 0\n\n#2 0\n\n#3 0\n\n"
     ]
    }
   ],
   "source": [
    "rd = open('./list_paint.txt', mode='rt', encoding='utf-8')\n",
    "testCase = int(rd.readline())\n",
    "counter = [0] * testCase\n",
    "for i in range(testCase):\n",
    "    cambus = [[0] * 10] * 10\n",
    "    colornmb = int(rd.readline())\n",
    "    color = [[0] * 5] * colornmb\n",
    "    allcolor = 0\n",
    "    for j in range(colornmb):\n",
    "        color[j] = list(map(int, rd.readline().split()))\n",
    "    for j in range(colornmb):\n",
    "        for k in range(color[j][0],color[j][2]):\n",
    "            for l in range(color[j][1],color[j][3]):\n",
    "                if cambus[k][l] != color[j][4]:\n",
    "                    cambus[k][l] += color[j][4]\n",
    "    for j in range(colornmb):\n",
    "        if color[j][4]\n",
    "        allcolor += color[j][4]\n",
    "    for j in range(10):\n",
    "        for k in range(10):\n",
    "            if cambus[j][k] == allcolor:\n",
    "                counter += 1\n",
    "for i in range(testCase):\n",
    "    print(\"#{0} {1}\\n\".format(i + 1, counter[i]))"
   ]
  },
  {
   "cell_type": "code",
   "execution_count": null,
   "metadata": {},
   "outputs": [],
   "source": []
  }
 ]
}