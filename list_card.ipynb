{
 "metadata": {
  "language_info": {
   "codemirror_mode": {
    "name": "ipython",
    "version": 3
   },
   "file_extension": ".py",
   "mimetype": "text/x-python",
   "name": "python",
   "nbconvert_exporter": "python",
   "pygments_lexer": "ipython3",
   "version": "3.9.4-final"
  },
  "orig_nbformat": 2,
  "kernelspec": {
   "name": "python3",
   "display_name": "Python 3",
   "language": "python"
  }
 },
 "nbformat": 4,
 "nbformat_minor": 2,
 "cells": [
  {
   "source": [
    "# 숫자 카드\n",
    "0에서 9까지 숫자가 적힌 N장의 카드가 주어진다.   \n",
    "가장 많은 카드에 적힌 숫자와 카드가 몇 장인지 출력하는 프로그램을 만드시오. 카드 장수가 같을 때는 적힌 숫자가 큰 쪽을 출력한다.   \n",
    "   \n",
    "\\[입력\\]   \n",
    "첫 줄에 테스트 케이스 개수 T가 주어진다.  ( 1 ≤ T ≤ 50 )   \n",
    "다음 줄부터 테스트케이스의 첫 줄에 카드 장수 N이 주어진다. ( 5 ≤ N ≤ 100 )   \n",
    "다음 줄에 N개의 숫자 ai가 여백없이 주어진다. (0으로 시작할 수도 있다.)  ( 0 ≤ ai ≤ 9 )   \n",
    "   \n",
    "\\[출력\\]   \n",
    "각 줄마다 \"#T\" (T는 테스트 케이스 번호)를 출력한 뒤, 가장 많은 카드의 숫자와 장수를 차례로 출력한다.   \n",
    "   \n",
    "\\[풀이\\]\n",
    "* count 리스트를 만들어 각 숫자별 갯수를 저장한다.\n",
    "* count 값이 가장 큰 값(갯수가 가장 많은 카드)을 앞에서부터 찾으면서 크거나 같은 값이 있으면 새로 가져온다.(앞에서 뒤에서 가져오므로 같은 경우 제일 큰 값이 저장된다)\n",
    "* count 리스트는 인덱스 0~9(0에서 9까지의 숫자)"
   ],
   "cell_type": "markdown",
   "metadata": {}
  },
  {
   "cell_type": "code",
   "execution_count": 18,
   "metadata": {},
   "outputs": [
    {
     "output_type": "stream",
     "name": "stdout",
     "text": [
      "#1 9 2\n#2 8 1\n#3 7 3\n"
     ]
    }
   ],
   "source": [
    "rd = open('./list_card.txt', mode='rt', encoding='utf-8')\n",
    "T = int(rd.readline())\n",
    "ans = list(range(T))\n",
    "maxn = list(range(T))\n",
    "for i in range(T):\n",
    "    count_list = [0]*10 # 숫자별 카운트 리스트(0~9)\n",
    "    cards = int(rd.readline()) # 카드 갯수\n",
    "    nmbs = rd.readline() # 숫자 값 배열(문자열)\n",
    "    j = 0\n",
    "    while j < len(nmbs) and nmbs[j].isdecimal():\n",
    "         count_list[int(nmbs[j])] += 1\n",
    "         j += 1\n",
    "    maxn[i] = count_list[0]\n",
    "    for k in range(1, 10):\n",
    "        if maxn[i] <= count_list[k]:\n",
    "            maxn[i] = count_list[k]\n",
    "            ans[i] = k\n",
    "for i in range(T):\n",
    "    print(\"#{0} {1} {2}\".format(i + 1, ans[i], maxn[i]))"
   ]
  }
 ]
}