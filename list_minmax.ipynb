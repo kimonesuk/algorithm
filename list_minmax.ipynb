{
 "metadata": {
  "language_info": {
   "codemirror_mode": {
    "name": "ipython",
    "version": 3
   },
   "file_extension": ".py",
   "mimetype": "text/x-python",
   "name": "python",
   "nbconvert_exporter": "python",
   "pygments_lexer": "ipython3",
   "version": "3.9.4-final"
  },
  "orig_nbformat": 2,
  "kernelspec": {
   "name": "python3",
   "display_name": "Python 3",
   "language": "python"
  }
 },
 "nbformat": 4,
 "nbformat_minor": 2,
 "cells": [
  {
   "source": [
    "# min max\n",
    "N개의 양의 정수에서 가장 큰 수와 가장 작은 수의 차이를 출력하시오.   \n",
    "   \n",
    "\\[입력\\]   \n",
    "첫 줄에 테스트 케이스의 수 T가 주어진다. ( 1 ≤ T ≤ 50 )   \n",
    "각 케이스의 첫 줄에 양수의 개수 N이 주어진다. ( 5 ≤ N ≤ 1000 )   \n",
    "다음 줄에 N개의 양수 ai가 주어진다. ( 1 ≤ ai ≤ 1000000 )   \n",
    "   \n",
    "\\[출력\\]   \n",
    "각 줄마다 \"#T\" (T는 테스트 케이스 번호)를 출력한 뒤, 답을 출력한다.   \n",
    "   \n",
    "\\[풀이\\]\n",
    "* 첫번째 값을 최대값, 최소값에 저장한다.\n",
    "* 두번째 값을 최대, 최소와 비교하고 크거나 작으면 새로운 최대, 최소에 입력한다.\n",
    "* 시간복잡도 : O(n) (n : 리스트의 길이, 전체 리스트를 한 번만 순회하면 된다) \n"
   ],
   "cell_type": "markdown",
   "metadata": {}
  },
  {
   "cell_type": "code",
   "execution_count": 8,
   "metadata": {},
   "outputs": [
    {
     "output_type": "stream",
     "name": "stdout",
     "text": [
      "#1 630739\n\n#2 740510\n\n#3 838110\n\n"
     ]
    }
   ],
   "source": [
    "rd = open('./list_min_max.txt', mode='rt', encoding='utf-8')\n",
    "testCase = int(rd.readline())\n",
    "max = list(range(testCase))\n",
    "min = list(range(testCase))\n",
    "\n",
    "for i in range(testCase):\n",
    "    count = int(rd.readline())\n",
    "    tmp = list(map(int, rd.readline().split()))\n",
    "    min[i] = max[i] = tmp[0]\n",
    "    for j in range(1, count):\n",
    "        if tmp[j] < min[i]:\n",
    "            min[i] = tmp[j]\n",
    "        elif tmp[j] > max[i]:\n",
    "            max[i] = tmp[j]\n",
    "for i in range(testCase):\n",
    "    print(\"#{0} {1}\\n\".format(i + 1, (max[i] - min[i])))"
   ]
  }
 ]
}