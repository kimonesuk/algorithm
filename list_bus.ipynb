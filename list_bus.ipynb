{
 "metadata": {
  "language_info": {
   "codemirror_mode": {
    "name": "ipython",
    "version": 3
   },
   "file_extension": ".py",
   "mimetype": "text/x-python",
   "name": "python",
   "nbconvert_exporter": "python",
   "pygments_lexer": "ipython3",
   "version": "3.9.4-final"
  },
  "orig_nbformat": 2,
  "kernelspec": {
   "name": "python3",
   "display_name": "Python 3",
   "language": "python"
  }
 },
 "nbformat": 4,
 "nbformat_minor": 2,
 "cells": [
  {
   "source": [
    "# 전기버스\n",
    "\n",
    "A도시는 전기버스를 운행하려고 한다. 전기버스는 한번 충전으로 이동할 수 있는 정류장 수가 정해져 있어서, 중간에 충전기가 설치된 정류장을 만들기로 했다.   \n",
    "버스는 0번에서 출발해 종점인 N번 정류장까지 이동하고, 한번 충전으로 최대한 이동할 수 있는 정류장 수 K가 정해져 있다.   \n",
    "충전기가 설치된 M개의 정류장 번호가 주어질 때, 최소한 몇 번의 충전을 해야 종점에 도착할 수 있는지 출력하는 프로그램을 만드시오.   \n",
    "만약 충전기 설치가 잘못되어 종점에 도착할 수 없는 경우는 0을 출력한다. 출발지에는 항상 충전기가 설치되어 있지만 충전횟수에는 포함하지 않는다.\n",
    "\n",
    "\\[예시\\]   \n",
    "   \n",
    "<img src=\"./list_bus.png\" width=\"40%\" height=\"30%\"></img>   \n",
    "   \n",
    "다음은 K = 3, N = 10, M = 5, 충전기가 설치된 정류장이 1, 3, 5, 7, 9인 경우의 예이다.   \n",
    "   \n",
    "\\[입력\\]   \n",
    "첫 줄에 노선 수 T가 주어진다.  ( 1 ≤ T ≤ 50 )   \n",
    "각 노선별로 K, N, M이 주어지고, 다음줄에 M개의 정류장 번호가 주어진다. ( 1 ≤ K, N, M ≤ 100 )   \n",
    "   \n",
    "\\[출력\\]   \n",
    "#과 노선번호, 빈칸에 이어 최소 충전횟수 또는 0을 출력한다.   \n",
    "   \n",
    "\\[풀이\\]\n",
    "* 노선과 충전기 위치를 지도에 입력한다.\n",
    "* 최대한 이동할 수 있는 만큼(k) 간다.\n",
    "* 만일 간 곳에 충전기가 있으면 충전횟수를 1올리고 없으면 충전기가 나올때까지 뒤로 간다.\n",
    "* 끝에 도착할때까지 반복한다. "
   ],
   "cell_type": "markdown",
   "metadata": {}
  },
  {
   "cell_type": "code",
   "execution_count": 1,
   "metadata": {},
   "outputs": [
    {
     "output_type": "stream",
     "name": "stdout",
     "text": [
      "#1 3\n\n#2 0\n\n#3 4\n\n"
     ]
    }
   ],
   "source": [
    "rd = open('./list_bus.txt', mode='rt', encoding='utf-8')\n",
    "T = int(rd.readline())\n",
    "count = list(range(T))\n",
    "for i in range(T):\n",
    "    K, N, M = map(int, rd.readline().split())\n",
    "    tmp = list(map(int, rd.readline().split()))\n",
    "    station = [0] * (N + 1)\n",
    "    for j in range(M):\n",
    "        station[tmp[j]] += 1\n",
    "    station[0] = 1\n",
    "    idx = 0\n",
    "    count[i] = 0\n",
    "    while idx < N:\n",
    "        old_idx = idx\n",
    "        idx += K\n",
    "        if idx >= N:\n",
    "            break\n",
    "        while station[idx] < 1:\n",
    "            idx += -1\n",
    "        count[i] += 1\n",
    "        if old_idx == idx:\n",
    "            count[i] = 0\n",
    "            break        \n",
    "for i in range(T):\n",
    "    print(\"#{0} {1}\\n\".format(i + 1, count[i]))"
   ]
  }
 ]
}