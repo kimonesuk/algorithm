{
 "metadata": {
  "language_info": {
   "codemirror_mode": {
    "name": "ipython",
    "version": 3
   },
   "file_extension": ".py",
   "mimetype": "text/x-python",
   "name": "python",
   "nbconvert_exporter": "python",
   "pygments_lexer": "ipython3",
   "version": "3.9.4-final"
  },
  "orig_nbformat": 2,
  "kernelspec": {
   "name": "python3",
   "display_name": "Python 3",
   "language": "python"
  }
 },
 "nbformat": 4,
 "nbformat_minor": 2,
 "cells": [
  {
   "source": [
    "# 구간합\n",
    "\n",
    "N개의 정수가 들어있는 배열에서 이웃한 M개의 합을 계산하는 것은 디지털 필터링의 기초연산이다.   \n",
    "M개의 합이 가장 큰 경우와 가장 작은 경우의 차이를 출력하는 프로그램을 작성하시오.   \n",
    "   \n",
    "\\[예시\\]   \n",
    "\n",
    "다음은 N=5, M=3이고 5개의 숫자 1 2 3 4 5가 배열 v에 들어있는 경우이다.   \n",
    "<img src=\"./list_subsum.png\" width=\"40%\" height=\"30%\"></img>   \n",
    "   \n",
    "\\[입력\\]   \n",
    "   \n",
    "첫 줄에 테스트 케이스 개수 T가 주어진다.  ( 1 ≤ T ≤ 50 )   \n",
    "다음 줄부터 테스트케이스의 첫 줄에 정수의 개수 N과 구간의 개수 M 주어진다. ( 10 ≤ N ≤ 100,  2 ≤ M ＜ N )   \n",
    "다음 줄에 N개의 정수 ai가 주어진다. ( 1 ≤ a ≤ 10000 )   \n",
    "   \n",
    "\\[출력\\]   \n",
    "   \n",
    "각 줄마다 \"#T\" (T는 테스트 케이스 번호)를 출력한 뒤, 답을 출력한다.   \n",
    "   \n",
    "\\[풀이\\]   \n",
    "* 처음부터 세자리씩 더한 값을 임시값에 저장한다.\n",
    "* 임시값이 최대부분합보다 큰 경우 최대부분합에 임시값을 넣는다.\n",
    "* 임시값이 최소부분합보다 작은 경우 최소부분합에 임시값을 넣는다.\n",
    "* 주어진 숫자열의 끝까지 도달한 경우 최대부분합과 최소부분합을 빼서 답을 구한다.\n"
   ],
   "cell_type": "markdown",
   "metadata": {}
  },
  {
   "cell_type": "code",
   "execution_count": 2,
   "metadata": {},
   "outputs": [
    {
     "output_type": "stream",
     "name": "stdout",
     "text": [
      "# 1 21\n# 2 11088\n# 3 1090\n"
     ]
    }
   ],
   "source": [
    "rd = open('./list_subsum.txt', mode='rt', encoding='utf-8')\n",
    "testCase = int(rd.readline())\n",
    "ans = [0] * testCase\n",
    "tmp = 0\n",
    "for i in range(testCase):\n",
    "    N, M = map(int, rd.readline().split())\n",
    "    nmbs = list(map(int, rd.readline().split()))\n",
    "    msum = Msum = 0\n",
    "    for j in range(N - M + 1):\n",
    "        for k in range(M):\n",
    "            tmp += nmbs[j + k]\n",
    "        if msum == 0:\n",
    "            msum = tmp\n",
    "        if tmp > Msum:\n",
    "            Msum = tmp\n",
    "        if tmp < msum:\n",
    "            msum = tmp\n",
    "        tmp = 0\n",
    "    ans[i] = Msum - msum\n",
    "for i in range(testCase):\n",
    "    print(\"#{0} {1}\".format(i + 1, ans[i]))"
   ]
  }
 ]
}