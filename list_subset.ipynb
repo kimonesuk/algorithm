{
 "metadata": {
  "language_info": {
   "codemirror_mode": {
    "name": "ipython",
    "version": 3
   },
   "file_extension": ".py",
   "mimetype": "text/x-python",
   "name": "python",
   "nbconvert_exporter": "python",
   "pygments_lexer": "ipython3",
   "version": "3.9.4-final"
  },
  "orig_nbformat": 2,
  "kernelspec": {
   "name": "python3",
   "display_name": "Python 3",
   "language": "python"
  }
 },
 "nbformat": 4,
 "nbformat_minor": 2,
 "cells": [
  {
   "source": [
    "# 부분집합의 합\n",
    "1부터 12까지의 숫자를 원소로 가진 집합 A가 있다. 집합 A의 부분 집합 중 N개의 원소를 갖고 있고, 원소의 합이 K인 부분집합의 개수를 출력하는 프로그램을 작성하시오.   \n",
    "해당하는 부분집합이 없는 경우 0을 출력한다. 모든 부분 집합을 만들어 답을 찾아도 된다.   \n",
    "예를 들어 N = 3, K = 6 경우, 부분집합은 { 1, 2, 3 } 경우 1가지가 존재한다.   \n",
    "   \n",
    "\\[입력\\]   \n",
    "첫 줄에 테스트 케이스 개수 T가 주어진다.  ( 1 ≤ T ≤ 50 )   \n",
    "테스트 케이스 별로 부분집합 원소의 수 N과 부분 집합의 합 K가 여백을 두고 주어진다. ( 1 ≤ N ≤ 12, 1 ≤ K ≤ 100 )   \n",
    "   \n",
    "\\[출력\\]   \n",
    "각 줄마다 \"#T\" (T는 테스트 케이스 번호)를 출력한 뒤, 답을 출력한다.   \n",
    "\n",
    "\\[풀이\\]   \n",
    "* 부분집합을 구해준다.\n",
    "* len과 sum함수를 이용해서 조건에 맞는 경우가 있는 경우 갯수를 하나씩 증가시킨다."
   ],
   "cell_type": "markdown",
   "metadata": {}
  },
  {
   "cell_type": "code",
   "execution_count": 11,
   "metadata": {},
   "outputs": [
    {
     "output_type": "stream",
     "name": "stdout",
     "text": [
      "#1 1\n#2 1\n#3 0\n"
     ]
    }
   ],
   "source": [
    "rd = open('./list_subset.txt', mode='rt', encoding='utf-8')\n",
    "testCase = int(rd.readline())\n",
    "sets = list(range(1,13))\n",
    "lst = []\n",
    "for i in range(1 << len(sets)):\n",
    "    sub_lst = []\n",
    "    for j in range(len(sets)):\n",
    "        if i & (1 << j):\n",
    "            sub_lst.append(sets[j])\n",
    "    lst.append(sub_lst)\n",
    "for i in range(testCase):\n",
    "    N, K = map(int, rd.readline().split())\n",
    "    ans = 0\n",
    "    for j in lst:\n",
    "        if len(j) == N and sum(j) == K:\n",
    "            ans += 1\n",
    "    print(\"#{0} {1}\".format(i+1, ans))"
   ]
  },
  {
   "cell_type": "code",
   "execution_count": null,
   "metadata": {},
   "outputs": [],
   "source": []
  }
 ]
}